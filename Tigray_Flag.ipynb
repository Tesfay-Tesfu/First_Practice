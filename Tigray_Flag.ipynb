{
 "cells": [
  {
   "cell_type": "code",
   "execution_count": null,
   "metadata": {},
   "outputs": [],
   "source": [
    "# By: T.Y, Date 12/09/2023 or 1/1/2016 Geeze Calender, a gift of new year\n",
    "import matplotlib.pyplot as plt\n",
    "import matplotlib.patches as patches\n",
    "import numpy as np\n",
    "\n",
    "fig, ax = plt.subplots()\n",
    "red = '#DA251D'\n",
    "yellow = '#FFD100'\n",
    "\n",
    "gezana = patches.Rectangle((0, 0), 2, 1, color=red)\n",
    "ax.add_patch(gezana)\n",
    "\n",
    "center_x = 1.3\n",
    "center_y = 0.55  \n",
    "radius_outer = 0.25  \n",
    "radius_inner = 0.1  \n",
    "angle = np.deg2rad(72)  \n",
    "\n",
    "star_coords = []\n",
    "for i in range(5):\n",
    "    x_outer = center_x + radius_outer * np.cos(i * angle)\n",
    "    y_outer = center_y + radius_outer * np.sin(i * angle)\n",
    "    x_inner = center_x + radius_inner * np.cos((i + 0.5) * angle)\n",
    "    y_inner = center_y + radius_inner * np.sin((i + 0.5) * angle)\n",
    "    star_coords.extend([(x_outer, y_outer), (x_inner, y_inner)])\n",
    "\n",
    "yellow_star = plt.Polygon(star_coords, closed=True, color=yellow)\n",
    "ax.add_patch(yellow_star)\n",
    "\n",
    "triangle_coords = [(0, 0), (0, 1), (0.96, 0.55)]\n",
    "\n",
    "yellow_triangle = plt.Polygon(triangle_coords, closed=True, color=yellow)\n",
    "ax.add_patch(yellow_triangle)\n",
    "\n",
    "ax.set_xlim(0, 2)\n",
    "ax.set_ylim(0, 1.5)\n",
    "ax.axis('off')\n",
    "plt.savefig(\"Gezana_Anbelbli.png\")\n",
    "plt.show()"
   ]
  }
 ],
 "metadata": {
  "kernelspec": {
   "display_name": "Python 3",
   "language": "python",
   "name": "python3"
  },
  "language_info": {
   "codemirror_mode": {
    "name": "ipython",
    "version": 3
   },
   "file_extension": ".py",
   "mimetype": "text/x-python",
   "name": "python",
   "nbconvert_exporter": "python",
   "pygments_lexer": "ipython3",
   "version": "3.7.4"
  }
 },
 "nbformat": 4,
 "nbformat_minor": 2
}
